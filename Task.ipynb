{
 "cells": [
  {
   "cell_type": "code",
   "execution_count": 3,
   "metadata": {
    "collapsed": true
   },
   "outputs": [],
   "source": [
    "## Creating List Node and adding info to node "
   ]
  },
  {
   "cell_type": "code",
   "execution_count": null,
   "metadata": {
    "collapsed": true
   },
   "outputs": [],
   "source": [
    "class ListNode:  \n",
    "    def __init__(self, data):\n",
    "        \"constructor to initiate this object\"\n",
    "\n",
    "        # store data\n",
    "        self.data = data\n",
    "\n",
    "        # store reference (next item)\n",
    "        self.next = None\n",
    "        return\n",
    "\n",
    "    def has_value(self, value):\n",
    "        \"method to compare the value with the node data\"\n",
    "        if self.data == value:\n",
    "            return True\n",
    "        else:\n",
    "            return False"
   ]
  },
  {
   "cell_type": "code",
   "execution_count": null,
   "metadata": {
    "collapsed": true
   },
   "outputs": [],
   "source": [
    "class SingleLinkedList:  \n",
    "    def __init__(self):\n",
    "        \"constructor to initiate this object\"\n",
    "\n",
    "        self.head = None\n",
    "        self.tail = None\n",
    "        return"
   ]
  },
  {
   "cell_type": "code",
   "execution_count": null,
   "metadata": {
    "collapsed": true
   },
   "outputs": [],
   "source": [
    "def add_list_item(self, item):\n",
    "        \"add an item at the end of the list\"\n",
    "\n",
    "        if not isinstance(item, ListNode):\n",
    "            item = ListNode(item)\n",
    "\n",
    "        if self.head is None:\n",
    "            self.head = item\n",
    "        else:\n",
    "            self.tail.next = item\n",
    "\n",
    "        self.tail = item\n",
    "\n",
    "        return"
   ]
  },
  {
   "cell_type": "code",
   "execution_count": null,
   "metadata": {
    "collapsed": true
   },
   "outputs": [],
   "source": [
    "# ADD INFO TO NODE VIA DICTIONARY"
   ]
  },
  {
   "cell_type": "code",
   "execution_count": null,
   "metadata": {
    "collapsed": true
   },
   "outputs": [],
   "source": [
    "data = {ownerid : '6.63', owner_name :'xyz', hash_value :'#455'}\n",
    "dictionary = {nodeNumber:'10', nodeId:'117', referenceNodeId:'655', genesisReferenceNodeId:'20', timestamp:'Date'}\n",
    "G=nx.DiGraph()\n",
    "G.add_nodes_from(dictionary.keys())\n",
    "\n",
    "for key,n in G.nodes.items():\n",
    "n[\"attribute\"]=dictionary[key]"
   ]
  },
  {
   "cell_type": "code",
   "execution_count": null,
   "metadata": {
    "collapsed": true
   },
   "outputs": [],
   "source": []
  },
  {
   "cell_type": "code",
   "execution_count": null,
   "metadata": {
    "collapsed": true
   },
   "outputs": [],
   "source": [
    "# Creation of Genesis Node ( parent node is null )"
   ]
  },
  {
   "cell_type": "code",
   "execution_count": null,
   "metadata": {
    "collapsed": true
   },
   "outputs": [],
   "source": []
  },
  {
   "cell_type": "code",
   "execution_count": null,
   "metadata": {
    "collapsed": true
   },
   "outputs": [],
   "source": [
    "# A node structure\n",
    "class Node:\n",
    "    # A utility function to create a new node\n",
    "    def __init__(self, key):\n",
    "        self.key = key\n",
    "        self.left = None\n",
    "        self.right = None"
   ]
  },
  {
   "cell_type": "code",
   "execution_count": null,
   "metadata": {
    "collapsed": true
   },
   "outputs": [],
   "source": [
    "def createNode(parent, i, created, root):\n",
    " \n",
    "    # If this node is already created\n",
    "    if created[i] is not None:\n",
    "        return\n",
    " \n",
    "    # Create a new node\n",
    "       created[i] = Node(i)\n",
    " \n",
    "    # If 'i' is root, change root pointer and return\n",
    "    if parent[i] == null:\n",
    "        root[0] = created[i] # root[0] denotes root of the tree\n",
    "        return\n",
    " \n",
    "    # If parent is not created, then create parent first\n",
    "    if  created[parent[i]] is None:\n",
    "        createNode(parent, parent[i], created, root )\n",
    " \n",
    "    # Find parent pointer\n",
    "    p = created[parent[i]]\n",
    " \n",
    "    # If this is first child of parent\n",
    "    if p.left is None:\n",
    "        p.left = created[i]\n",
    "    # If second child\n",
    "    else:\n",
    "        p.right = created[i]"
   ]
  },
  {
   "cell_type": "code",
   "execution_count": null,
   "metadata": {
    "collapsed": true
   },
   "outputs": [],
   "source": []
  },
  {
   "cell_type": "code",
   "execution_count": null,
   "metadata": {
    "collapsed": true
   },
   "outputs": [],
   "source": [
    " # For Creating and operating Child nodes "
   ]
  },
  {
   "cell_type": "code",
   "execution_count": null,
   "metadata": {
    "collapsed": true
   },
   "outputs": [],
   "source": []
  },
  {
   "cell_type": "code",
   "execution_count": null,
   "metadata": {
    "collapsed": true
   },
   "outputs": [],
   "source": [
    "class Node(xml.dom.Node):\n",
    "    namespaceURI = None # this is non-null only for elements and attributes\n",
    "    parentNode = None\n",
    "    ownerDocument = None\n",
    "    nextSibling = None\n",
    "    previousSibling = None\n",
    "\n",
    "    prefix = EMPTY_PREFIX # non-null only for NS elements and attributes\n",
    "\n",
    "    def __bool__(self):\n",
    "        return True\n",
    "\n",
    "    def toxml(self, encoding=None):\n",
    "        return self.toprettyxml(\"\", \"\", encoding)\n",
    "\n",
    "    def toprettyxml(self, indent=\"\\t\", newl=\"\\n\", encoding=None):\n",
    "        if encoding is None:\n",
    "            writer = io.StringIO()\n",
    "        else:\n",
    "            writer = io.TextIOWrapper(io.BytesIO(),\n",
    "                                      encoding=encoding,\n",
    "                                      errors=\"xmlcharrefreplace\",\n",
    "                                      newline='\\n')\n",
    "        if self.nodeType == Node.DOCUMENT_NODE:\n",
    "            # Can pass encoding only to document, to put it into XML header\n",
    "            self.writexml(writer, \"\", indent, newl, encoding)\n",
    "        else:\n",
    "            self.writexml(writer, \"\", indent, newl)\n",
    "        if encoding is None:\n",
    "            return writer.getvalue()\n",
    "        else:\n",
    "            return writer.detach().getvalue()\n",
    "\n",
    "    def hasChildNodes(self):\n",
    "        return bool(self.childNodes)\n",
    "\n",
    "    def _get_childNodes(self):\n",
    "        return self.childNodes\n",
    "\n",
    "    def _get_firstChild(self):\n",
    "        if self.childNodes:\n",
    "            return self.childNodes[0]\n",
    "\n",
    "    def _get_lastChild(self):\n",
    "        if self.childNodes:\n",
    "            return self.childNodes[-1]\n",
    "\n",
    "    def insertBefore(self, newChild, refChild):\n",
    "        if newChild.nodeType == self.DOCUMENT_FRAGMENT_NODE:\n",
    "            for c in tuple(newChild.childNodes):\n",
    "                self.insertBefore(c, refChild)\n",
    "            ### \n",
    "            return newChild\n",
    "        if newChild.nodeType not in self._child_node_types:\n",
    "            raise xml.dom.HierarchyRequestErr(\n",
    "                \"%s cannot be child of %s\" % (repr(newChild), repr(self)))\n",
    "        if newChild.parentNode is not None:\n",
    "            newChild.parentNode.removeChild(newChild)\n",
    "        if refChild is None:\n",
    "            self.appendChild(newChild)\n",
    "        else:\n",
    "            try:\n",
    "                index = self.childNodes.index(refChild)\n",
    "            except ValueError:\n",
    "                raise xml.dom.NotFoundErr()\n",
    "            if newChild.nodeType in _nodeTypes_with_children:\n",
    "                _clear_id_cache(self)\n",
    "            self.childNodes.insert(index, newChild)\n",
    "            newChild.nextSibling = refChild\n",
    "            refChild.previousSibling = newChild\n",
    "            if index:\n",
    "                node = self.childNodes[index-1]\n",
    "                node.nextSibling = newChild\n",
    "                newChild.previousSibling = node\n",
    "            else:\n",
    "                newChild.previousSibling = None\n",
    "            newChild.parentNode = self\n",
    "        return newChild"
   ]
  },
  {
   "cell_type": "code",
   "execution_count": null,
   "metadata": {
    "collapsed": true
   },
   "outputs": [],
   "source": [
    " def appendChild(self, node):\n",
    "        if node.nodeType == self.DOCUMENT_FRAGMENT_NODE:\n",
    "            for c in tuple(node.childNodes):\n",
    "                self.appendChild(c)\n",
    "            ### The DOM does not clearly specify what to return in this case\n",
    "            return node\n",
    "        if node.nodeType not in self._child_node_types:\n",
    "            raise xml.dom.HierarchyRequestErr(\n",
    "                \"%s cannot be child of %s\" % (repr(node), repr(self)))\n",
    "        elif node.nodeType in _nodeTypes_with_children:\n",
    "            _clear_id_cache(self)\n",
    "        if node.parentNode is not None:\n",
    "            node.parentNode.removeChild(node)\n",
    "        _append_child(self, node)\n",
    "        node.nextSibling = None\n",
    "        return node"
   ]
  },
  {
   "cell_type": "code",
   "execution_count": null,
   "metadata": {
    "collapsed": true
   },
   "outputs": [],
   "source": [
    "# Encrypting and Decrypt data ..... Comparing hash values when decryting data"
   ]
  },
  {
   "cell_type": "code",
   "execution_count": null,
   "metadata": {
    "collapsed": true
   },
   "outputs": [],
   "source": [
    "import hashlib"
   ]
  },
  {
   "cell_type": "code",
   "execution_count": null,
   "metadata": {
    "collapsed": true
   },
   "outputs": [],
   "source": [
    "md5 = hashlib.md5()\n",
    "md5.update('Python rocks!')\n",
    "md5.update('Python rocks!')\n",
    "md5.digest()\n",
    "md5.hexdigest()\n",
    "sha = hashlib.sha1(b'Hello Python').hexdigest()"
   ]
  },
  {
   "cell_type": "code",
   "execution_count": null,
   "metadata": {
    "collapsed": true
   },
   "outputs": [],
   "source": [
    "#KEY DERIVATION"
   ]
  },
  {
   "cell_type": "code",
   "execution_count": null,
   "metadata": {
    "collapsed": true
   },
   "outputs": [],
   "source": [
    "import binascii"
   ]
  },
  {
   "cell_type": "code",
   "execution_count": null,
   "metadata": {
    "collapsed": true
   },
   "outputs": [],
   "source": [
    "dk = hashlib.pbkdf2_hmac(hash_name='sha256',\n",
    "password=b'bad_password34', \n",
    "salt=b'bad_salt', \n",
    "iterations=100000)\n",
    "binascii.hexlify(dk)"
   ]
  },
  {
   "cell_type": "code",
   "execution_count": null,
   "metadata": {
    "collapsed": true
   },
   "outputs": [],
   "source": [
    "# we’ll use DES to encrypt a string\n",
    "\n",
    "from Crypto.Cipher import DES\n",
    "key = 'abcdefgh'\n",
    "def pad(text):\n",
    "while len(text) % 8 != 0:\n",
    "text += ' '\n",
    "return text\n",
    "\n",
    "des = DES.new(key, DES.MODE_ECB)\n",
    "text = 'Python rocks!'\n",
    "padded_text = pad(text)\n",
    "encrypted_text = des.encrypt(text)\n",
    "return self._cipher.encrypt(plaintext)\n"
   ]
  },
  {
   "cell_type": "code",
   "execution_count": null,
   "metadata": {
    "collapsed": true
   },
   "outputs": [],
   "source": [
    "encrypted_text = des.encrypt(padded_text)\n",
    "encrypted_text"
   ]
  },
  {
   "cell_type": "code",
   "execution_count": 4,
   "metadata": {
    "collapsed": true
   },
   "outputs": [],
   "source": [
    "# If you want to encrypt your data with RSA, then you’ll need to either have access to a public / private RSA key pair or you will need to generate your own. "
   ]
  },
  {
   "cell_type": "code",
   "execution_count": null,
   "metadata": {
    "collapsed": true
   },
   "outputs": [],
   "source": [
    "from Crypto.PublicKey import RSA\n",
    "code = 'nooneknows'\n",
    "key = RSA.generate(2048)\n",
    "encrypted_key = key.exportKey(passphrase=code, pkcs=8, \n",
    "protection=\"scryptAndAES128-CBC\")\n",
    "with open('/path_to_private_key/my_private_rsa_key.bin', 'wb') as f:\n",
    "f.write(encrypted_key)\n",
    "with open('/path_to_public_key/my_rsa_public.pem', 'wb') as f:\n",
    "f.write(key.publickey().exportKey())"
   ]
  },
  {
   "cell_type": "code",
   "execution_count": null,
   "metadata": {
    "collapsed": true
   },
   "outputs": [],
   "source": [
    "# Now that we have both a private and a public key, we can encrypt some data and write it to a file"
   ]
  },
  {
   "cell_type": "code",
   "execution_count": null,
   "metadata": {
    "collapsed": true
   },
   "outputs": [],
   "source": [
    "from Crypto.PublicKey import RSA\n",
    "from Crypto.Random import get_random_bytes\n",
    "from Crypto.Cipher import AES, PKCS1_OAEP\n",
    "with open('/path/to/encrypted_data.bin', 'wb') as out_file:\n",
    "recipient_key = RSA.import_key(\n",
    " open('/path_to_public_key/my_rsa_public.pem').read())\n",
    " session_key = get_random_bytes(16)\n",
    "cipher_rsa = PKCS1_OAEP.new(recipient_key)\n",
    " out_file.write(cipher_rsa.encrypt(session_key))\n",
    "cipher_aes = AES.new(session_key, AES.MODE_EAX)\n",
    " data = b'blah blah blah Python blah blah'\n",
    "ciphertext, tag = cipher_aes.encrypt_and_digest(data)\n",
    " out_file.write(cipher_aes.nonce)\n",
    "out_file.write(tag)\n",
    " out_file.write(ciphertext)"
   ]
  },
  {
   "cell_type": "code",
   "execution_count": null,
   "metadata": {
    "collapsed": true
   },
   "outputs": [],
   "source": [
    "# decrypt our data"
   ]
  },
  {
   "cell_type": "code",
   "execution_count": null,
   "metadata": {
    "collapsed": true
   },
   "outputs": [],
   "source": [
    "from Crypto.PublicKey import RSA\n",
    "from Crypto.Cipher import AES, PKCS1_OAEP\n",
    "code = 'nooneknows'\n",
    "with open('/path/to/encrypted_data.bin', 'rb') as fobj:\n",
    "private_key = RSA.import_key(\n",
    " open('/path_to_private_key/my_rsa_key.pem').read(),\n",
    " passphrase=code)\n",
    " enc_session_key, nonce, tag, ciphertext = [ fobj.read(x) \n",
    " for x in (private_key.size_in_bytes(), \n",
    " 16, 16, -1) ]\n",
    "cipher_rsa = PKCS1_OAEP.new(private_key)\n",
    " session_key = cipher_rsa.decrypt(enc_session_key)\n",
    "cipher_aes = AES.new(session_key, AES.MODE_EAX, nonce)\n",
    " data = cipher_aes.decrypt_and_verify(ciphertext, tag)\n",
    "print(data)"
   ]
  },
  {
   "cell_type": "code",
   "execution_count": null,
   "metadata": {
    "collapsed": true
   },
   "outputs": [],
   "source": [
    "# Owner Encrypts the data with key"
   ]
  },
  {
   "cell_type": "code",
   "execution_count": null,
   "metadata": {
    "collapsed": true
   },
   "outputs": [],
   "source": [
    "from cryptography.fernet import Fernet\n",
    "\n",
    "key = Fernet.generate_key()\n",
    "f = Fernet(key)\n",
    "token = f.encrypt(b\"A really secret message. Not for prying eyes.\")\n",
    "token"
   ]
  },
  {
   "cell_type": "code",
   "execution_count": null,
   "metadata": {
    "collapsed": true
   },
   "outputs": [],
   "source": [
    "# Find longest chain of any node"
   ]
  },
  {
   "cell_type": "code",
   "execution_count": null,
   "metadata": {
    "collapsed": true
   },
   "outputs": [],
   "source": [
    "from sets import Set\n",
    "def findLongestConseqSubseq(arr, n):\n",
    " \n",
    "    s = Set()\n",
    "    ans=0\n",
    " \n",
    "    # Hash all the array elements\n",
    "    for ele in arr:\n",
    "        s.add(ele)\n",
    " \n",
    "    # check each possible sequence from the start\n",
    "    # then update optimal length\n",
    "    for i in range(n):\n",
    " \n",
    "         # if current element is the starting\n",
    "        # element of a sequence\n",
    "        if (arr[i]-1) not in s:\n",
    " \n",
    "            # Then check for next elements in the\n",
    "            # sequence\n",
    "            j=arr[i]\n",
    "            while(j in s):\n",
    "                j+=1\n",
    " \n",
    "            # update  optimal length if this length\n",
    "            # is more\n",
    "            ans=max(ans, j-arr[i])\n",
    "    return ans"
   ]
  },
  {
   "cell_type": "code",
   "execution_count": null,
   "metadata": {
    "collapsed": true
   },
   "outputs": [],
   "source": [
    "# Merge 2 nodes"
   ]
  },
  {
   "cell_type": "code",
   "execution_count": null,
   "metadata": {
    "collapsed": true
   },
   "outputs": [],
   "source": [
    "a = nuke.createNode('Merge2')\n",
    "b = nuke.selectedNodes()\n",
    "x=0\n",
    "for i in b:\n",
    "if x==2:\n",
    "x+=1\n",
    "continue\n",
    "a.setInput(x,i)\n",
    "x+=1"
   ]
  },
  {
   "cell_type": "code",
   "execution_count": null,
   "metadata": {
    "collapsed": true
   },
   "outputs": [],
   "source": []
  }
 ],
 "metadata": {
  "kernelspec": {
   "display_name": "Python 3",
   "language": "python",
   "name": "python3"
  },
  "language_info": {
   "codemirror_mode": {
    "name": "ipython",
    "version": 3
   },
   "file_extension": ".py",
   "mimetype": "text/x-python",
   "name": "python",
   "nbconvert_exporter": "python",
   "pygments_lexer": "ipython3",
   "version": "3.6.3"
  }
 },
 "nbformat": 4,
 "nbformat_minor": 2
}
